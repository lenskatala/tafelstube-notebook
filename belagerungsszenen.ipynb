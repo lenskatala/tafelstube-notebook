{
 "cells": [
  {
   "cell_type": "raw",
   "metadata": {
    "vscode": {
     "languageId": "raw"
    }
   },
   "source": [
    "---\n",
    "title: \"Belagerungsszenen des Langen Türkenkriegs an der Decke\"\n",
    "jupyter: python3\n",
    "code-fold: true\n",
    "execute:\n",
    "  echo: true\n",
    "  output: asis\n",
    "\n",
    "---"
   ]
  },
  {
   "cell_type": "code",
   "execution_count": 1,
   "metadata": {},
   "outputs": [],
   "source": [
    "from funktionen import *"
   ]
  },
  {
   "cell_type": "code",
   "execution_count": 2,
   "metadata": {},
   "outputs": [
    {
     "name": "stdout",
     "output_type": "stream",
     "text": [
      "Wikibase link: [https://computational-publishing-service.wikibase.cloud/entity/Q278](https://computational-publishing-service.wikibase.cloud/entity/Q278)\n",
      "\n",
      "Kurator: Seeger, Ulrike\n",
      "\n",
      "\n",
      "<head>\n",
      "  <meta charset=\"utf-8\" />\n",
      "  <meta content=\"text\" />\n",
      "  <meta name=\"viewport\" content=\"width=device-width, initial-scale=1.0\" />\n",
      "</head>\n",
      "<html xmlns=\"http://www.w3.org/1999/xhtml\" lang=\"de\" xml:lang=\"de\">\n",
      "  <body>\n",
      "    <h2>Belagerungsszenen des Langen T&uuml;rkenkriegs an der Decke</h2>\n",
      "    <h3>Zuweisung der Gem&auml;lde in die einstige Tafelstube</h3>\n",
      "    <p>\n",
      "      Die einstige Deckenzier der Tafelstube ist den Inventaren, die ja lediglich die mobilen Einrichtungsgegenst&auml;nde auff&uuml;hren, nicht zu entnehmen. Einer Haustradition von Schloss Weikersheim zufolge waren an der Decke urspr&uuml;nglich jene 12 gro&szlig;formatigen Belagerungsszenen angebracht, die sich heute in musealer Aufstellung teilweise im Flur vor dem einstigen Appartement Graf Wolfgangs im K&uuml;chenbau befinden.&#091;1&#093; Bei der Unterteilung des Raumes 1837 wurden sie abgenommen und tauchten im Schloss 1946 wieder auf.&#091;2&#093; Ihre Anzahl, ihre Aufteilung in vier schmale und acht breite Bilder sowie wie die exakten Ma&szlig;e&#091;3&#093; passen sehr gut zu den Gefachen der Balkendecke. Es besteht also kein Anlass, an dieser Haustradition zu zweifeln.\n",
      "    </p>\n",
      "    <p>\n",
      "      \n",
      "    </p>\n",
      "    <p>\n",
      "      \n",
      "    </p>\n",
      "    <h3>Urheberschaft und Datierung der Gem&auml;lde</h3>\n",
      "    <p>\n",
      "      Nahezu alle Gem&auml;lde sind stilistisch Balthasar Katzenberger zuzuschreiben. Ein Vertrag wie der zu den Deckengem&auml;lden des Rittersaals hat sich nicht erhalten, sodass sie nicht genau datiert sind. Sie entstanden jedoch vermutlich sofort im Anschluss an die im November 1602 quittierten Deckengem&auml;lde des Saals, also von 1603 bis 1604. Bei der sp&auml;testen dargestellten Belagerung von 1604 handelt es sich um einen Nachz&uuml;gler. Ihr Duktus ist nicht der von Katzenberger, was sich insbesondere an den Wolkenformationen zeigt, die entgegen Katzenbergers Gepflogenheit wei&szlig; konturiert sind. M&ouml;glicherweise ersetzte das Gem&auml;lde ein anderes Bild und wurde zu einem Zeitpunkt gew&uuml;nscht, als Katzenberger nicht zur Verf&uuml;gung stand. Der Anlass f&uuml;r die nachtr&auml;gliche Bestellung war der Tod von Graf Ludwig Kasimir bei der dargestellten Belagerung von Gran im Jahr 1604, an die das Gem&auml;lde erinnert.\n",
      "    </p>\n",
      "    <h3>Komposition und Darstellungsmodus der Gem&auml;lde</h3>\n",
      "    <p>\n",
      "      Die hochrechteckigen Belagerungsszenen folgen im Aufbau prinzipiell den achteckigen Jagdgem&auml;lden im Saal. Im Vordergrund hat Katzenberger ein Get&uuml;mmel inszeniert, das sich am unteren Bildrand abspielt und dessen Protagonisten von beiden Seiten ins Bild reiten oder treten. Seitlich wird das Geschehen von hohen Repoussoir-B&auml;ume gerahmt, die sich am oberen Bildrand durch die Beschriftung der Gem&auml;lde mit dunklen Buchstaben vor blauem Himmel zu einer ovalen Rahmung zusammenschlie&szlig;en. Im Mittel- und Hintergrund schilderte Katzenberger in weitl&auml;ufiger Landschaft die Belagerung einer Festung. Rings um die Festung stehen die Zelte der Belagerer, entz&uuml;nden sich Scharm&uuml;tzel und hin und wieder auch kleinere Schlachten.\n",
      "    </p>\n",
      "    <h3>Thema, Vorlagen, Auswahl und Konzeption des Zyklus</h3>\n",
      "    <p>\n",
      "      Die Gem&auml;lde zeigen Belagerungen ungarischer Festungen, die sich w&auml;hrend des Langen T&uuml;rkenkriegs ergaben. Der Lange T&uuml;rkenkrieg begann 1593 zwischen dem Osmanischen Reich und den Habsburgern nachdem es schon vorher auf beiden Seiten zu Grenzverletzungen gekommen war.&#091;4&#093; Es handelte sich um einen Festungskrieg, bei dem die im Anschluss an die osmanische Belagerung Wiens im Jahr 1529 auf beiden Seiten ausgebauten Festungen wechselseitig belagert wurden. Beendet wurde der Krieg erst 1606 mit dem Frieden von Zsitvatorok. Die in Weikersheim dargestellten Belagerungen beginnen angeblich schon 1590, sp&auml;testens jedoch 1594 und reichen bis in das Jahr 1604.\n",
      "    </p>\n",
      "    <p>\n",
      "      Der Lange T&uuml;rkenkrieg mit seinen vielen Belagerungen bestimmte bereits das das Programm des inneren Ostportals des Rittersaals. Dieses Portal f&uuml;hrte nach Ansicht der Autorin nicht von der Tafelstube in den Saal, sondern vom Saal in die Tafelstube. Es bereitete den Besucher des Saals thematisch auf das Bildprogramm der Tafelstube vor, zumal das Portal und die Deckengem&auml;lde der Tafelstube zur gleichen Zeit entstanden. Der Stuckateur Gerhard Schmidt schuf sein 1603 signiertes und datiertes Portal im Saal, w&auml;hrend Katzenberger seine Gem&auml;lde in der Werkstatt malte.\n",
      "    </p>\n",
      "    <p>\n",
      "      Als Vorlagen f&uuml;r die Belagerungsszenen im Hintergrund dienten Kupferstiche, die einer ausf&uuml;hrlichen, 1602 in N&uuml;rnberg erschienenen Chronik &uuml;ber den T&uuml;rkenkrieg beigebunden waren.&#091;5&#093; Verfasser des Werkes „Chronologia oder Historische Beschreibung aller Kriegsemporungen und Bel&auml;gerungen der St&auml;tt und Vestungen, auch Scharm&uuml;tzeln und Schlachten, so in Ober- und Under-Ungarn, auch Sibenb&uuml;rgen, mit dem T&uuml;rcken von A. 1395 bi&szlig; auff gegenwertige Zeit gedenckhw&uuml;rdig geschehen …“&#091;6&#093; war Hieronymus Oertl (Ortelius), der in Wien als kaiserlicher Notar wegen seiner protestantischen Gesinnung 1580 in Ungnade gefallen war und sich danach in N&uuml;rnberg niederlie&szlig;.&#091;7&#093; Die Anregung zu dem Werk ging von seinem Schwager, dem N&uuml;rnberger Kupferstecher und Verleger Johann Sibmacher aus. Sibmacher zeichnete die Belagerungsszenen nach Ortelius Vorgaben und stach sie in Kupfer.&#091;8&#093;\n",
      "    </p>\n",
      "    <p>\n",
      "      Die insgesamt 28 Kupfer wurden in der deutschsprachigen Legende in ihrem Sujet genau benannt und mit dem Jahr der Belagerung versehen. Katzenberger &uuml;bernahm diese Beischriften buchstabengetreu f&uuml;r seine Deckengem&auml;lde. Aufgrund der sehr genauen &Uuml;bernahmen in Wort und Bild kann man davon ausgehen, dass Ortelius‘ Chronik Graf Wolfgang im Jahr ihres Erscheinens 1602 vorlag. Ausgew&auml;hlt aus den 28 Kupfern wurden Belagerungsaktionen sowohl der Kaiserlichen als auch der Osmanen. Harald Dr&ouml;s, der sich bislang am ausf&uuml;hrlichsten mit den Weikersheimer Belagerungsszenen auseinandergesetzt hat und dem wertvolle Hinweise zu verdanken sind,&#091;9&#093; vermutete deshalb sicher zurecht, dass die Auswahl der Szenen davon bestimmt war, dass Mitglieder des Hauses Hohenlohe beteiligt waren. Die folgende Beschreibung der Bilder best&auml;tigt diese Vermutung. Die sp&auml;teste dargestellte Belagerung von Gran (Eszergom), bei der der Sohn Ludwig Kasimir zu Tode kam,&#091;10&#093; bezieht sich als ein Art Memorialbild auf dessen Tod. Auch dieses tragische Ereignis wurde dem Besucher schon angek&uuml;ndigt, indem im Durchgang zwischen Saal und Tafelstube die Beweinung des toten Adonis durch Venus und Amor dargestellt wurde.\n",
      "    </p>\n",
      "    <p>\n",
      "      Drei der in Weikersheim dargestellten Belagerungen lagen sp&auml;ter als das Erscheinungsjahr der Chronik. Sie wurden hinzuerfunden und weisen deutliche Schw&auml;chen in der Schilderung des Hintergrunds auf. Die drei jeweils an der Donau stattgefundenen Aktionen wurden aus Landkarten und Belagerungen Sibmachers versatzst&uuml;ckhaft kompiliert. Da die Gem&auml;lde keinerlei Anhaltspunkte zu ihrer urspr&uuml;nglichen Anordnung preisgeben, folgt ihre nachfolgende Nummerierung der Chronologie der dargestellten Belagerungen. Sie findet sich in der gleichen Reihenfolge zusammen mit den genauen Ma&szlig;en bei Harald Dr&ouml;s im Band der Inschriften des ehemaligen Landkreises Mergentheim.&#091;11&#093;\n",
      "    </p>\n",
      "    <h3>Rekonstruktion der einstigen Anordnung</h3>\n",
      "    <p>\n",
      "      Bei der Rekonstruktion der Decke, die Jan Lutteroth miterarbeitet und graphisch umgesetzt hat, wurde die Reihenfolge der durch keinerlei Bild- oder Schriftquellen &uuml;berlieferten Anbringung ebenfalls gem&auml;&szlig; der Chronologie gew&auml;hlt. Die Geschichte beginnt in angenommener Leserichtung von links nach rechts f&uuml;r den Eintretenden links oben mit dem geheimnisvollen Nachtbild der Belagerung von Totis im Jahr 1590 (Belagerung I). Bei der Rekonstruktion der in vier Register &uuml;bereinanderliegenden Szenen musste lediglich im dritten Register einmal die Chronologie verlassen werden, da die Belagerung der Stadt Waitzen im Jahr 1597 (Belagerung VII) als schmales Bildformat nicht links au&szlig;en, sondern erst in der Mitte platziert werden konnte. Sie wird nun von den Belagerungen von Raab 1598, wiederum einem effektvollen Nachtbild (Belagerung VIII), und der Belagerung von Ofen ebenfalls im Jahr 1598 (Belagerung IX) flankiert.\n",
      "    </p>\n",
      "    <p>\n",
      "      Die drei Belagerungen, an denen S&ouml;hne teilgenommen hatten (Belagerung X, XI, XII) stehen bei der gew&auml;hlten Anordnung am Ende der Tafelstube. Die drei darunterliegenden Fenster er&ouml;ffnen den Blick auf die Stadt s&uuml;dlich des Marktplatzes. Das besonders wichtige Gem&auml;lde mit dem bei der Belagerung von Gran (Eszergom) 1604 get&ouml;teten Ludwig Kasimir (Belagerung XII) kommt als letztes der Reihe rechts oben so zu stehen, dass Ludwig Kasimir mit seinem Pferd Richtung Kirche reitet, wo er beigesetzt wurde. Der trauernden Gr&auml;fin w&uuml;rde auf dem Gem&auml;lde ebenfalls der Weg zur Kirche gewiesen.\n",
      "    </p>\n",
      "    <p>\n",
      "      &#091;1&#093; Merten, Weikersheim, o. J., S. 40. Trentin-Meyer, Georg Friedrich von Hohenlohe, 2019, S. 90 spricht versehentlich von 13 Gem&auml;lden.\n",
      "    </p>\n",
      "    <p>\n",
      "      &#091;2&#093; Freeden, Kamin, 1950, S. 142.\n",
      "    </p>\n",
      "    <p>\n",
      "      &#091;3&#093; Die Ma&szlig;e bei Dr&ouml;s, Inschriften Mergentheim, 2002, S. 248. Ebd., S. 249 die bislang ausf&uuml;hrlichste Auseinandersetzung mit den Gem&auml;lden.\n",
      "    </p>\n",
      "    <p>\n",
      "      &#091;4&#093; Zum Langen T&uuml;rkenkrieg: Niederkorn, Langer T&uuml;rkenkrieg, 1993.\n",
      "    </p>\n",
      "    <p>\n",
      "      &#091;5&#093; Diese wichtige Vorlage bereits bei Fandrey, Weikersheim, 2010, S. 60.\n",
      "    </p>\n",
      "    <p>\n",
      "      &#091;6&#093; Ortelius, Chronologia, 1602.\n",
      "    </p>\n",
      "    <p>\n",
      "      &#091;7&#093; Mummenhoff, Ernst, \"Oertl, Hieronymus\" in: Allgemeine Deutsche Biographie 24 (1887), S. 445-446 &#091;Online-Version&#093;; URL: https://www.deutsche-biographie.de/pnd128534958.html#adbcontent.\n",
      "    </p>\n",
      "    <p>\n",
      "      &#091;8&#093; Ebd. Au&szlig;erdem Ortelius, Chronologia, 1602, „Ad Lectorem“.\n",
      "    </p>\n",
      "    <p>\n",
      "      &#091;9&#093; Dr&ouml;s, Inschriften Mergentheim, 2002, S. 248–249.\n",
      "    </p>\n",
      "    <p>\n",
      "      &#091;10&#093; Dr&ouml;s, Inschriften Mergentheim, 2002, S. 248–250.\n",
      "    </p>\n",
      "    <p>\n",
      "      &#091;11&#093; Dr&ouml;s, Inschriften Mergentheim, 2002, Nr. 366.\n",
      "    </p>\n",
      "  </body>\n",
      "</html>\n",
      "\n"
     ]
    }
   ],
   "source": [
    "get_text(\"Q278\")\n",
    "#Belagerungsszenen des Langen Türkenkrieges"
   ]
  }
 ],
 "metadata": {
  "kernelspec": {
   "display_name": "Python 3",
   "language": "python",
   "name": "python3"
  },
  "language_info": {
   "codemirror_mode": {
    "name": "ipython",
    "version": 3
   },
   "file_extension": ".py",
   "mimetype": "text/x-python",
   "name": "python",
   "nbconvert_exporter": "python",
   "pygments_lexer": "ipython3",
   "version": "3.10.13"
  }
 },
 "nbformat": 4,
 "nbformat_minor": 2
}
